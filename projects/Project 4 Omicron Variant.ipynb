{
 "cells": [
  {
   "cell_type": "markdown",
   "metadata": {},
   "source": [
    "# Coronavirus Variant\n",
    "\n",
    "The goal of this project is to learn about **Coronavirus Variant** from various data. \n",
    "\n",
    "**Introduction:** \n",
    "\n",
    "Multiple variants of the virus that causes COVID-19 have been identified globally during the COVID-19 pandemic. Variants are determined by their genetic sequences. The term variant of interest (VOI) is used to describe a newly emerging variant for which the medical and public health importance is not yet known. If a variant is thought to be more contagious or likely to cause greater illness or severe disease, or may impact treatment or vaccine response, then it is considered a variant of concern (VOC). \n",
    "\n",
    "**What do we know about the variants of concern?**\n",
    "\n",
    "- B.1.1.7 (Alpha) variants are associated with approximately 50% increased transmission, and likely with increased disease severity and risk of death. Appears to have minimal impact on the effectiveness of treatments with antibodies.\n",
    "- B.1.351 (Beta) variants are associated with approximately 50% increased transmission. May have moderately decreased response to antibody treatments.\n",
    "- P.1 (Gamma) variants may have moderately decreased response to some antibody treatments.\n",
    "- B.1.617.2 (Delta) variants are associated with increased transmission. May have moderately decreased response to antibody treatments. (Delta totals include Delta sub-lineages AY.1 and AY.2)\n",
    "- B.1.1.529, BA.1, BA.1.1, BA.2, BA.3, BA.4 and BA.5 (Omicron) Variants have increased transmissibility, reduction in neutralization by some EUA monoclonal antibody treatments, and significant reduction in neutralization by post-vaccination or post-infection sera."
   ]
  },
  {
   "cell_type": "markdown",
   "metadata": {},
   "source": [
    "## 1. Distribution of the number of variants in confirmed cases\n",
    "\n",
    "The file variant-epi-data_2022.csv contains the counts and percentages of recently confirmed COVID-19 cases in NYC. Display (**in the form of the percentage bar plot**) the percentages of Omicron (B.1.1.529) and subvariants BA.2, BA 2.12.1, BA.4, and BA.5 from the first week of January, March, and July in 2022 "
   ]
  },
  {
   "cell_type": "code",
   "execution_count": null,
   "metadata": {},
   "outputs": [],
   "source": []
  },
  {
   "cell_type": "markdown",
   "metadata": {},
   "source": [
    "Variant Propotions of VOCs and VOIs in the US can be  found on the [CDC website](https://covid.cdc.gov/covid-data-tracker/#variant-proportions). Read the charts provided in the link and discuss the change of Omicron subvariants in the US. "
   ]
  },
  {
   "cell_type": "code",
   "execution_count": null,
   "metadata": {},
   "outputs": [],
   "source": []
  },
  {
   "cell_type": "markdown",
   "metadata": {},
   "source": [
    "## 2. New hospital admissions and hospitalized patients\n",
    "\n",
    "Find the latest trend for the numbers of [hospital admission](https://covid.cdc.gov/covid-data-tracker/?CDC_AA_refVal=https%3A%2F%2Fwww.cdc.gov%2Fcoronavirus%2F2019-ncov%2Fcases-updates%2Fcases-in-us.html#new-hospital-admissions) and [hospitalized patients](https://covid.cdc.gov/covid-data-tracker/?CDC_AA_refVal=https%3A%2F%2Fwww.cdc.gov%2Fcoronavirus%2F2019-ncov%2Fcases-updates%2Fcases-in-us.html#hospitalizations).\n",
    "\n",
    "Which Omicron subvariant(s) is(are) the major reason for the steady increases of the new hospital admissions and hospitalized patients since April 2022?\n"
   ]
  },
  {
   "cell_type": "code",
   "execution_count": null,
   "metadata": {},
   "outputs": [],
   "source": []
  },
  {
   "cell_type": "markdown",
   "metadata": {},
   "source": [
    "## 3. Vaccines VS Omicron subvariants\n",
    "\n",
    "Compare the CDC data for [hospitalization rate by vaccine status](https://covid.cdc.gov/covid-data-tracker/?CDC_AA_refVal=https%3A%2F%2Fwww.cdc.gov%2Fcoronavirus%2F2019-ncov%2Fcases-updates%2Fcases-in-us.html#covidnet-hospitalizations-vaccination) and Massachusetts data for the [number of hospitalization patients by vaccination statue](https://www.mass.gov/info-details/covid-19-response-reporting#covid-19-interactive-data-dashboard-) (Click \"Hospitalizations\"). Answer the following questions. "
   ]
  },
  {
   "cell_type": "markdown",
   "metadata": {},
   "source": [
    "In Massachusetts about 60% hospitalized patients with comfirmed COVID-19 are fully vaccinated. Is this consistent with CDC data? Explain your reason. "
   ]
  },
  {
   "cell_type": "code",
   "execution_count": null,
   "metadata": {},
   "outputs": [],
   "source": []
  },
  {
   "cell_type": "markdown",
   "metadata": {},
   "source": [
    "Compare CDC data and New York City variant data. From early 2021, do you think the protection of current vaccine against hospitalization decreases with time? If yes, what could be the main cause? "
   ]
  },
  {
   "cell_type": "code",
   "execution_count": null,
   "metadata": {},
   "outputs": [],
   "source": []
  },
  {
   "cell_type": "markdown",
   "metadata": {},
   "source": [
    "What would you do to protect yourself from new Omicron subvariant?"
   ]
  },
  {
   "cell_type": "code",
   "execution_count": null,
   "metadata": {},
   "outputs": [],
   "source": []
  }
 ],
 "metadata": {
  "kernelspec": {
   "display_name": "Python 3",
   "language": "python",
   "name": "python3"
  },
  "language_info": {
   "codemirror_mode": {
    "name": "ipython",
    "version": 3
   },
   "file_extension": ".py",
   "mimetype": "text/x-python",
   "name": "python",
   "nbconvert_exporter": "python",
   "pygments_lexer": "ipython3",
   "version": "3.5.10"
  }
 },
 "nbformat": 4,
 "nbformat_minor": 4
}
